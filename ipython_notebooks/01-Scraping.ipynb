{
 "cells": [
  {
   "cell_type": "markdown",
   "metadata": {},
   "source": [
    "Scraping stuff and data organization"
   ]
  },
  {
   "cell_type": "code",
   "execution_count": 1,
   "metadata": {
    "collapsed": true
   },
   "outputs": [],
   "source": [
    "# imports\n",
    "from os import listdir\n",
    "from os.path import isfile, join\n",
    "\n",
    "import pandas as pd\n",
    "import numpy as np\n",
    "import matplotlib.pyplot as plt\n",
    "\n",
    "import urllib.request as ur\n",
    "\n",
    "import os"
   ]
  },
  {
   "cell_type": "markdown",
   "metadata": {},
   "source": [
    "We'll need to figure out how to:  \n",
    "\n",
    "1) Download images, given a url  \n",
    "2) Read all files in a folder and get information  \n",
    "\n",
    "\n",
    "to consider:  \n",
    "1) pybrain  \n",
    "2) keras  \n",
    "3) caffe?  \n"
   ]
  },
  {
   "cell_type": "code",
   "execution_count": 4,
   "metadata": {
    "collapsed": false
   },
   "outputs": [
    {
     "data": {
      "text/plain": [
       "('googlelogo_color_120x44dp.png', <http.client.HTTPMessage at 0x10d35e1d0>)"
      ]
     },
     "execution_count": 4,
     "metadata": {},
     "output_type": "execute_result"
    }
   ],
   "source": [
    "# how to download a file and change it's name\n",
    "url = \"https://www.google.com/images/branding/googlelogo/2x/googlelogo_color_120x44dp.png\"\n",
    "title_end_i = url.rfind('/') +1\n",
    "title = url[title_end_i:]\n",
    "title\n",
    "\n",
    "ur.urlretrieve(url, title)\n"
   ]
  },
  {
   "cell_type": "code",
   "execution_count": 5,
   "metadata": {
    "collapsed": false
   },
   "outputs": [
    {
     "name": "stdout",
     "output_type": "stream",
     "text": [
      "/Users/ggarbagnati/ds/metis/metisgh/sf17_ds5/local/Projects/05-Kojak\r\n"
     ]
    }
   ],
   "source": [
    "!pwd"
   ]
  },
  {
   "cell_type": "code",
   "execution_count": 6,
   "metadata": {
    "collapsed": false
   },
   "outputs": [],
   "source": [
    "# get all files in a directory\n",
    "#listdir('images_csv')\n",
    "mypath = '/Users/ggarbagnati/ds/metis/metisgh/sf17_ds5/local/Projects/05-Kojak/image_csv/'\n",
    "image_url_csvs = [f for f in listdir(mypath) if isfile(join(mypath, f))]\n",
    "image_url_csvs = [f for f in image_url_csvs if '.csv' in f]"
   ]
  },
  {
   "cell_type": "code",
   "execution_count": 7,
   "metadata": {
    "collapsed": false
   },
   "outputs": [
    {
     "data": {
      "text/plain": [
       "('/Users/ggarbagnati/ds/metis/metisgh/sf17_ds5/local/Projects/05-Kojak/image_csv/googlelogo_color_120x44dp.png',\n",
       " <http.client.HTTPMessage at 0x10d35e0b8>)"
      ]
     },
     "execution_count": 7,
     "metadata": {},
     "output_type": "execute_result"
    }
   ],
   "source": [
    "dlloc = mypath + title\n",
    "ur.urlretrieve(url, filename = dlloc)"
   ]
  },
  {
   "cell_type": "code",
   "execution_count": 8,
   "metadata": {
    "collapsed": false
   },
   "outputs": [
    {
     "data": {
      "text/plain": [
       "['apple_images.csv',\n",
       " 'banana_images.csv',\n",
       " 'cabbage_red_white_savoy_images.csv',\n",
       " 'cassava_manioc_images.csv',\n",
       " 'celery_images.csv',\n",
       " 'cherry_including_sour_images.csv',\n",
       " 'corn_maize_images.csv',\n",
       " 'cucumber_images.csv',\n",
       " 'gourd_images.csv',\n",
       " 'grape_images.csv',\n",
       " 'orange_images.csv',\n",
       " 'peach_images.csv',\n",
       " 'pepper_bell_images.csv',\n",
       " 'potato_images.csv',\n",
       " 'pumpkin_images.csv',\n",
       " 'soybean_images.csv',\n",
       " 'squash_images.csv',\n",
       " 'strawberry_images.csv',\n",
       " 'tomato_images.csv']"
      ]
     },
     "execution_count": 8,
     "metadata": {},
     "output_type": "execute_result"
    }
   ],
   "source": [
    "image_url_csvs"
   ]
  },
  {
   "cell_type": "code",
   "execution_count": 15,
   "metadata": {
    "collapsed": false
   },
   "outputs": [
    {
     "name": "stdout",
     "output_type": "stream",
     "text": [
      "/Users/ggarbagnati/ds/metis/metisgh/sf17_ds5/local/Projects/05-Kojak/image_csv/apple_images.csv\n"
     ]
    }
   ],
   "source": [
    "filename = mypath + image_url_csvs[0]\n",
    "#filename = './image_csv/' + image_url_csvs[0]\n",
    "#dirname = image_url_csvs[]\n",
    "print(filename)\n",
    "df = pd.read_csv(filename, header = 3)"
   ]
  },
  {
   "cell_type": "code",
   "execution_count": 16,
   "metadata": {
    "collapsed": false,
    "scrolled": true
   },
   "outputs": [
    {
     "name": "stdout",
     "output_type": "stream",
     "text": [
      "3453\n"
     ]
    },
    {
     "data": {
      "text/html": [
       "<div>\n",
       "<table border=\"1\" class=\"dataframe\">\n",
       "  <thead>\n",
       "    <tr style=\"text-align: right;\">\n",
       "      <th></th>\n",
       "      <th>Crop common name</th>\n",
       "      <th>Crop scientific name</th>\n",
       "      <th>Disease common name</th>\n",
       "      <th>Disease scientific name</th>\n",
       "      <th>url</th>\n",
       "      <th>description</th>\n",
       "      <th>metadata</th>\n",
       "    </tr>\n",
       "  </thead>\n",
       "  <tbody>\n",
       "    <tr>\n",
       "      <th>0</th>\n",
       "      <td>Apple</td>\n",
       "      <td>Malus domestica</td>\n",
       "      <td>Apple scab</td>\n",
       "      <td>&lt;i&gt;Venturia inaequalis &lt;/i&gt;</td>\n",
       "      <td>https://d3an9inho3qicd.cloudfront.net/images/p...</td>\n",
       "      <td>photographed in field/outside, FREC, Biglervil...</td>\n",
       "      <td>PlantVillage</td>\n",
       "    </tr>\n",
       "    <tr>\n",
       "      <th>1</th>\n",
       "      <td>Apple</td>\n",
       "      <td>Malus domestica</td>\n",
       "      <td>Apple scab</td>\n",
       "      <td>&lt;i&gt;Venturia inaequalis &lt;/i&gt;</td>\n",
       "      <td>https://d3an9inho3qicd.cloudfront.net/images/p...</td>\n",
       "      <td>photographed in field/outside, FREC, Biglervil...</td>\n",
       "      <td>PlantVillage</td>\n",
       "    </tr>\n",
       "    <tr>\n",
       "      <th>2</th>\n",
       "      <td>Apple</td>\n",
       "      <td>Malus domestica</td>\n",
       "      <td>Apple scab</td>\n",
       "      <td>&lt;i&gt;Venturia inaequalis &lt;/i&gt;</td>\n",
       "      <td>https://d3an9inho3qicd.cloudfront.net/images/p...</td>\n",
       "      <td>photographed in field/outside, FREC, Biglervil...</td>\n",
       "      <td>PlantVillage</td>\n",
       "    </tr>\n",
       "    <tr>\n",
       "      <th>3</th>\n",
       "      <td>Apple</td>\n",
       "      <td>Malus domestica</td>\n",
       "      <td>Apple scab</td>\n",
       "      <td>&lt;i&gt;Venturia inaequalis &lt;/i&gt;</td>\n",
       "      <td>https://d3an9inho3qicd.cloudfront.net/images/p...</td>\n",
       "      <td>photographed in field/outside, FREC, Biglervil...</td>\n",
       "      <td>PlantVillage</td>\n",
       "    </tr>\n",
       "    <tr>\n",
       "      <th>4</th>\n",
       "      <td>Apple</td>\n",
       "      <td>Malus domestica</td>\n",
       "      <td>Apple scab</td>\n",
       "      <td>&lt;i&gt;Venturia inaequalis &lt;/i&gt;</td>\n",
       "      <td>https://d3an9inho3qicd.cloudfront.net/images/p...</td>\n",
       "      <td>photographed in field/outside, FREC, Biglervil...</td>\n",
       "      <td>PlantVillage</td>\n",
       "    </tr>\n",
       "  </tbody>\n",
       "</table>\n",
       "</div>"
      ],
      "text/plain": [
       "  Crop common name Crop scientific name Disease common name  \\\n",
       "0            Apple      Malus domestica          Apple scab   \n",
       "1            Apple      Malus domestica          Apple scab   \n",
       "2            Apple      Malus domestica          Apple scab   \n",
       "3            Apple      Malus domestica          Apple scab   \n",
       "4            Apple      Malus domestica          Apple scab   \n",
       "\n",
       "       Disease scientific name  \\\n",
       "0  <i>Venturia inaequalis </i>   \n",
       "1  <i>Venturia inaequalis </i>   \n",
       "2  <i>Venturia inaequalis </i>   \n",
       "3  <i>Venturia inaequalis </i>   \n",
       "4  <i>Venturia inaequalis </i>   \n",
       "\n",
       "                                                 url  \\\n",
       "0  https://d3an9inho3qicd.cloudfront.net/images/p...   \n",
       "1  https://d3an9inho3qicd.cloudfront.net/images/p...   \n",
       "2  https://d3an9inho3qicd.cloudfront.net/images/p...   \n",
       "3  https://d3an9inho3qicd.cloudfront.net/images/p...   \n",
       "4  https://d3an9inho3qicd.cloudfront.net/images/p...   \n",
       "\n",
       "                                         description      metadata  \n",
       "0  photographed in field/outside, FREC, Biglervil...  PlantVillage  \n",
       "1  photographed in field/outside, FREC, Biglervil...  PlantVillage  \n",
       "2  photographed in field/outside, FREC, Biglervil...  PlantVillage  \n",
       "3  photographed in field/outside, FREC, Biglervil...  PlantVillage  \n",
       "4  photographed in field/outside, FREC, Biglervil...  PlantVillage  "
      ]
     },
     "execution_count": 16,
     "metadata": {},
     "output_type": "execute_result"
    }
   ],
   "source": [
    "print(len(df))\n",
    "df.head()"
   ]
  },
  {
   "cell_type": "code",
   "execution_count": 17,
   "metadata": {
    "collapsed": false
   },
   "outputs": [],
   "source": [
    "def impute_disease(x):\n",
    "    if pd.isnull(x):\n",
    "        return 'healthy'\n",
    "    elif len(x) < 1:\n",
    "        return 'healthy'\n",
    "    else:\n",
    "        return x\n",
    "\n",
    "df['Disease common name'] = df['Disease common name'].apply(lambda x: impute_disease(x))"
   ]
  },
  {
   "cell_type": "code",
   "execution_count": 18,
   "metadata": {
    "collapsed": false
   },
   "outputs": [
    {
     "data": {
      "text/plain": [
       "healthy             1835\n",
       "Black rot            712\n",
       "Apple scab           630\n",
       "Cedar apple rust     276\n",
       "Name: Disease common name, dtype: int64"
      ]
     },
     "execution_count": 18,
     "metadata": {},
     "output_type": "execute_result"
    }
   ],
   "source": [
    "df['Disease common name'].value_counts()"
   ]
  },
  {
   "cell_type": "code",
   "execution_count": 19,
   "metadata": {
    "collapsed": false
   },
   "outputs": [
    {
     "data": {
      "text/plain": [
       "'healthy'"
      ]
     },
     "execution_count": 19,
     "metadata": {},
     "output_type": "execute_result"
    }
   ],
   "source": [
    "df['Disease common name'][2000]"
   ]
  },
  {
   "cell_type": "code",
   "execution_count": 20,
   "metadata": {
    "collapsed": false
   },
   "outputs": [
    {
     "data": {
      "text/plain": [
       "3453"
      ]
     },
     "execution_count": 20,
     "metadata": {},
     "output_type": "execute_result"
    }
   ],
   "source": [
    "len(df)"
   ]
  },
  {
   "cell_type": "code",
   "execution_count": 21,
   "metadata": {
    "collapsed": false
   },
   "outputs": [
    {
     "data": {
      "text/plain": [
       "'https://d3an9inho3qicd.cloudfront.net/images/pics/000/009/903/large/FREC_Scab_3108_resized.JPG?1445259127'"
      ]
     },
     "execution_count": 21,
     "metadata": {},
     "output_type": "execute_result"
    }
   ],
   "source": [
    "url1 = df['url'][0]\n",
    "url1"
   ]
  },
  {
   "cell_type": "code",
   "execution_count": 61,
   "metadata": {
    "collapsed": false
   },
   "outputs": [
    {
     "data": {
      "text/plain": [
       "'Cassava'"
      ]
     },
     "execution_count": 61,
     "metadata": {},
     "output_type": "execute_result"
    }
   ],
   "source": [
    "s = 'Cassava (manioc)'\n",
    "s = s[:s.find('(')-1].replace(' ', '_')\n",
    "s"
   ]
  },
  {
   "cell_type": "code",
   "execution_count": 64,
   "metadata": {
    "collapsed": false
   },
   "outputs": [
    {
     "name": "stdout",
     "output_type": "stream",
     "text": [
      "Tomato healthy\n"
     ]
    },
    {
     "data": {
      "text/plain": [
       "'if not os.path.exists(directory):\\n    os.makedirs(directory)'"
      ]
     },
     "execution_count": 64,
     "metadata": {},
     "output_type": "execute_result"
    }
   ],
   "source": [
    "i = 0\n",
    "directory = df['Crop common name'][i]\n",
    "if '(' in directory:\n",
    "    directory = directory[:directory.find('(')-1]\n",
    "directory = directory.replace(' ', '_')\n",
    "sub_dir_name = df['Disease common name'][i].replace(' ', '_')\n",
    "\n",
    "print(directory,sub_dir_name)\n",
    "\n",
    "'''if not os.path.exists(directory):\n",
    "    os.makedirs(directory)'''"
   ]
  },
  {
   "cell_type": "code",
   "execution_count": 9,
   "metadata": {
    "collapsed": false
   },
   "outputs": [
    {
     "name": "stdout",
     "output_type": "stream",
     "text": [
      "/Users/ggarbagnati/ds/metis/metisgh/sf17_ds5/local/Projects/05-Kojak/image_csv/apple_images.csv\n",
      "/Users/ggarbagnati/ds/metis/metisgh/sf17_ds5/local/Projects/05-Kojak/image_csv/banana_images.csv\n",
      "/Users/ggarbagnati/ds/metis/metisgh/sf17_ds5/local/Projects/05-Kojak/image_csv/cabbage_red_white_savoy_images.csv\n",
      "/Users/ggarbagnati/ds/metis/metisgh/sf17_ds5/local/Projects/05-Kojak/image_csv/cassava_manioc_images.csv\n",
      "/Users/ggarbagnati/ds/metis/metisgh/sf17_ds5/local/Projects/05-Kojak/image_csv/celery_images.csv\n",
      "/Users/ggarbagnati/ds/metis/metisgh/sf17_ds5/local/Projects/05-Kojak/image_csv/cherry_including_sour_images.csv\n",
      "/Users/ggarbagnati/ds/metis/metisgh/sf17_ds5/local/Projects/05-Kojak/image_csv/corn_maize_images.csv\n",
      "/Users/ggarbagnati/ds/metis/metisgh/sf17_ds5/local/Projects/05-Kojak/image_csv/cucumber_images.csv\n",
      "/Users/ggarbagnati/ds/metis/metisgh/sf17_ds5/local/Projects/05-Kojak/image_csv/gourd_images.csv\n",
      "/Users/ggarbagnati/ds/metis/metisgh/sf17_ds5/local/Projects/05-Kojak/image_csv/grape_images.csv\n",
      "/Users/ggarbagnati/ds/metis/metisgh/sf17_ds5/local/Projects/05-Kojak/image_csv/orange_images.csv\n",
      "/Users/ggarbagnati/ds/metis/metisgh/sf17_ds5/local/Projects/05-Kojak/image_csv/peach_images.csv\n",
      "/Users/ggarbagnati/ds/metis/metisgh/sf17_ds5/local/Projects/05-Kojak/image_csv/pepper_bell_images.csv\n",
      "/Users/ggarbagnati/ds/metis/metisgh/sf17_ds5/local/Projects/05-Kojak/image_csv/potato_images.csv\n",
      "/Users/ggarbagnati/ds/metis/metisgh/sf17_ds5/local/Projects/05-Kojak/image_csv/pumpkin_images.csv\n",
      "/Users/ggarbagnati/ds/metis/metisgh/sf17_ds5/local/Projects/05-Kojak/image_csv/soybean_images.csv\n",
      "/Users/ggarbagnati/ds/metis/metisgh/sf17_ds5/local/Projects/05-Kojak/image_csv/squash_images.csv\n",
      "/Users/ggarbagnati/ds/metis/metisgh/sf17_ds5/local/Projects/05-Kojak/image_csv/strawberry_images.csv\n",
      "/Users/ggarbagnati/ds/metis/metisgh/sf17_ds5/local/Projects/05-Kojak/image_csv/tomato_images.csv\n",
      "19\n"
     ]
    }
   ],
   "source": [
    "# Scraping list of dfs\n",
    "\n",
    "def impute_disease(x):\n",
    "    if pd.isnull(x):\n",
    "        return 'healthy'\n",
    "    elif len(x) < 1:\n",
    "        return 'healthy'\n",
    "    else:\n",
    "        return x\n",
    "\n",
    "mypath = '/Users/ggarbagnati/ds/metis/metisgh/sf17_ds5/local/Projects/05-Kojak/image_csv/'\n",
    "\n",
    "dfs = []\n",
    "\n",
    "for csv in image_url_csvs:\n",
    "    \n",
    "    filename = mypath + csv\n",
    "    #dirname = image_url_csvs[]\n",
    "    print(filename)\n",
    "    df = pd.read_csv(filename, header = 3)\n",
    "\n",
    "    df['Disease common name'] = df['Disease common name'].apply(lambda x: impute_disease(x))\n",
    "    \n",
    "    df['scraped'] = 0\n",
    "    \n",
    "    dfs.append(df)\n",
    "\n",
    "print(len(dfs))\n",
    "\n",
    "\n"
   ]
  },
  {
   "cell_type": "code",
   "execution_count": 10,
   "metadata": {
    "collapsed": false
   },
   "outputs": [
    {
     "data": {
      "text/html": [
       "<div>\n",
       "<table border=\"1\" class=\"dataframe\">\n",
       "  <thead>\n",
       "    <tr style=\"text-align: right;\">\n",
       "      <th></th>\n",
       "      <th>Crop common name</th>\n",
       "      <th>Crop scientific name</th>\n",
       "      <th>Disease common name</th>\n",
       "      <th>Disease scientific name</th>\n",
       "      <th>url</th>\n",
       "      <th>description</th>\n",
       "      <th>metadata</th>\n",
       "      <th>scraped</th>\n",
       "    </tr>\n",
       "  </thead>\n",
       "  <tbody>\n",
       "    <tr>\n",
       "      <th>0</th>\n",
       "      <td>Tomato</td>\n",
       "      <td>Lycopersicum esculentum</td>\n",
       "      <td>healthy</td>\n",
       "      <td>NaN</td>\n",
       "      <td>https://d3an9inho3qicd.cloudfront.net/images/p...</td>\n",
       "      <td>Ripe tomato fruit</td>\n",
       "      <td>photon_de on Flickr \\r\\nLicensed by Creative C...</td>\n",
       "      <td>0</td>\n",
       "    </tr>\n",
       "    <tr>\n",
       "      <th>1</th>\n",
       "      <td>Tomato</td>\n",
       "      <td>Lycopersicum esculentum</td>\n",
       "      <td>Magnesium deficiency</td>\n",
       "      <td>NaN</td>\n",
       "      <td>https://d3an9inho3qicd.cloudfront.net/images/p...</td>\n",
       "      <td>Magnesium deficiency symptoms on tomato leaves</td>\n",
       "      <td>Bruce Watt, University of Maine, Bugwood.org\\r...</td>\n",
       "      <td>0</td>\n",
       "    </tr>\n",
       "    <tr>\n",
       "      <th>2</th>\n",
       "      <td>Tomato</td>\n",
       "      <td>Lycopersicum esculentum</td>\n",
       "      <td>healthy</td>\n",
       "      <td>NaN</td>\n",
       "      <td>https://d3an9inho3qicd.cloudfront.net/images/p...</td>\n",
       "      <td>Leaf</td>\n",
       "      <td>PlantVillage</td>\n",
       "      <td>0</td>\n",
       "    </tr>\n",
       "    <tr>\n",
       "      <th>3</th>\n",
       "      <td>Tomato</td>\n",
       "      <td>Lycopersicum esculentum</td>\n",
       "      <td>Late blight</td>\n",
       "      <td>&lt;i&gt;Phytophthora infestans&lt;/i&gt;</td>\n",
       "      <td>https://d3an9inho3qicd.cloudfront.net/images/p...</td>\n",
       "      <td>Plant 1 - Leaf 1 day 1, early symptoms</td>\n",
       "      <td>PlantVillage</td>\n",
       "      <td>0</td>\n",
       "    </tr>\n",
       "    <tr>\n",
       "      <th>4</th>\n",
       "      <td>Tomato</td>\n",
       "      <td>Lycopersicum esculentum</td>\n",
       "      <td>Late blight</td>\n",
       "      <td>&lt;i&gt;Phytophthora infestans&lt;/i&gt;</td>\n",
       "      <td>https://d3an9inho3qicd.cloudfront.net/images/p...</td>\n",
       "      <td>Plant 1 - Leaf 1 day 12, late symptoms</td>\n",
       "      <td>PlantVillage</td>\n",
       "      <td>0</td>\n",
       "    </tr>\n",
       "  </tbody>\n",
       "</table>\n",
       "</div>"
      ],
      "text/plain": [
       "  Crop common name     Crop scientific name   Disease common name  \\\n",
       "0           Tomato  Lycopersicum esculentum               healthy   \n",
       "1           Tomato  Lycopersicum esculentum  Magnesium deficiency   \n",
       "2           Tomato  Lycopersicum esculentum               healthy   \n",
       "3           Tomato  Lycopersicum esculentum           Late blight   \n",
       "4           Tomato  Lycopersicum esculentum           Late blight   \n",
       "\n",
       "         Disease scientific name  \\\n",
       "0                            NaN   \n",
       "1                            NaN   \n",
       "2                            NaN   \n",
       "3  <i>Phytophthora infestans</i>   \n",
       "4  <i>Phytophthora infestans</i>   \n",
       "\n",
       "                                                 url  \\\n",
       "0  https://d3an9inho3qicd.cloudfront.net/images/p...   \n",
       "1  https://d3an9inho3qicd.cloudfront.net/images/p...   \n",
       "2  https://d3an9inho3qicd.cloudfront.net/images/p...   \n",
       "3  https://d3an9inho3qicd.cloudfront.net/images/p...   \n",
       "4  https://d3an9inho3qicd.cloudfront.net/images/p...   \n",
       "\n",
       "                                      description  \\\n",
       "0                               Ripe tomato fruit   \n",
       "1  Magnesium deficiency symptoms on tomato leaves   \n",
       "2                                            Leaf   \n",
       "3          Plant 1 - Leaf 1 day 1, early symptoms   \n",
       "4          Plant 1 - Leaf 1 day 12, late symptoms   \n",
       "\n",
       "                                            metadata  scraped  \n",
       "0  photon_de on Flickr \\r\\nLicensed by Creative C...        0  \n",
       "1  Bruce Watt, University of Maine, Bugwood.org\\r...        0  \n",
       "2                                       PlantVillage        0  \n",
       "3                                       PlantVillage        0  \n",
       "4                                       PlantVillage        0  "
      ]
     },
     "execution_count": 10,
     "metadata": {},
     "output_type": "execute_result"
    }
   ],
   "source": [
    "df.head()"
   ]
  },
  {
   "cell_type": "code",
   "execution_count": 35,
   "metadata": {
    "collapsed": false
   },
   "outputs": [],
   "source": [
    "# scraping each image\n",
    "\n",
    "dl_limit = 20000\n",
    "\n",
    "j = 0\n",
    "\n",
    "for df in dfs:\n",
    "\n",
    "    for i, url in enumerate(df['url']):\n",
    "\n",
    "        if j >= dl_limit:\n",
    "            break\n",
    "\n",
    "        if df['scraped'][i] == 1:\n",
    "            continue\n",
    "        \n",
    "        print(i, df['Crop common name'][i], j, url)\n",
    "\n",
    "        directory = df['Crop common name'][i]\n",
    "        if '(' in directory:\n",
    "            directory = directory[:directory.find('(')-1]\n",
    "        directory = directory.replace(' ', '_')\n",
    "        directory = 'images/' + directory\n",
    "        sub_dir_name = df['Disease common name'][i].replace(' ', '_')\n",
    "\n",
    "        if not os.path.exists(directory):\n",
    "            os.makedirs(directory)\n",
    "        sub_dir = directory + '/' + sub_dir_name\n",
    "        if not os.path.exists(sub_dir):\n",
    "            os.makedirs(sub_dir)\n",
    "\n",
    "        extension_i = url.rfind('.') \n",
    "        extension = url[extension_i:extension_i+4]\n",
    "\n",
    "        filenum = '%05d' % (i,)\n",
    "        filename = directory[6:] + '-' + sub_dir_name + '-' + filenum + extension\n",
    "\n",
    "        print(filename)\n",
    "        \n",
    "        filepath = sub_dir + '/' + filename\n",
    "\n",
    "        print(filepath)\n",
    "\n",
    "        try:\n",
    "            ur.urlretrieve(url, filepath)\n",
    "\n",
    "            df.set_value(i,'scraped',1)\n",
    "        \n",
    "        except ContentTooShortError:\n",
    "            pass\n",
    "        \n",
    "        j += 1\n",
    "\n",
    "        \n"
   ]
  },
  {
   "cell_type": "code",
   "execution_count": 17,
   "metadata": {
    "collapsed": false
   },
   "outputs": [
    {
     "data": {
      "text/html": [
       "<div>\n",
       "<table border=\"1\" class=\"dataframe\">\n",
       "  <thead>\n",
       "    <tr style=\"text-align: right;\">\n",
       "      <th></th>\n",
       "      <th>Crop common name</th>\n",
       "      <th>Crop scientific name</th>\n",
       "      <th>Disease common name</th>\n",
       "      <th>Disease scientific name</th>\n",
       "      <th>url</th>\n",
       "      <th>description</th>\n",
       "      <th>metadata</th>\n",
       "      <th>scraped</th>\n",
       "    </tr>\n",
       "  </thead>\n",
       "  <tbody>\n",
       "    <tr>\n",
       "      <th>0</th>\n",
       "      <td>Apple</td>\n",
       "      <td>Malus domestica</td>\n",
       "      <td>Apple scab</td>\n",
       "      <td>&lt;i&gt;Venturia inaequalis &lt;/i&gt;</td>\n",
       "      <td>https://d3an9inho3qicd.cloudfront.net/images/p...</td>\n",
       "      <td>photographed in field/outside, FREC, Biglervil...</td>\n",
       "      <td>PlantVillage</td>\n",
       "      <td>1</td>\n",
       "    </tr>\n",
       "    <tr>\n",
       "      <th>1</th>\n",
       "      <td>Apple</td>\n",
       "      <td>Malus domestica</td>\n",
       "      <td>Apple scab</td>\n",
       "      <td>&lt;i&gt;Venturia inaequalis &lt;/i&gt;</td>\n",
       "      <td>https://d3an9inho3qicd.cloudfront.net/images/p...</td>\n",
       "      <td>photographed in field/outside, FREC, Biglervil...</td>\n",
       "      <td>PlantVillage</td>\n",
       "      <td>1</td>\n",
       "    </tr>\n",
       "    <tr>\n",
       "      <th>2</th>\n",
       "      <td>Apple</td>\n",
       "      <td>Malus domestica</td>\n",
       "      <td>Apple scab</td>\n",
       "      <td>&lt;i&gt;Venturia inaequalis &lt;/i&gt;</td>\n",
       "      <td>https://d3an9inho3qicd.cloudfront.net/images/p...</td>\n",
       "      <td>photographed in field/outside, FREC, Biglervil...</td>\n",
       "      <td>PlantVillage</td>\n",
       "      <td>1</td>\n",
       "    </tr>\n",
       "    <tr>\n",
       "      <th>3</th>\n",
       "      <td>Apple</td>\n",
       "      <td>Malus domestica</td>\n",
       "      <td>Apple scab</td>\n",
       "      <td>&lt;i&gt;Venturia inaequalis &lt;/i&gt;</td>\n",
       "      <td>https://d3an9inho3qicd.cloudfront.net/images/p...</td>\n",
       "      <td>photographed in field/outside, FREC, Biglervil...</td>\n",
       "      <td>PlantVillage</td>\n",
       "      <td>1</td>\n",
       "    </tr>\n",
       "    <tr>\n",
       "      <th>4</th>\n",
       "      <td>Apple</td>\n",
       "      <td>Malus domestica</td>\n",
       "      <td>Apple scab</td>\n",
       "      <td>&lt;i&gt;Venturia inaequalis &lt;/i&gt;</td>\n",
       "      <td>https://d3an9inho3qicd.cloudfront.net/images/p...</td>\n",
       "      <td>photographed in field/outside, FREC, Biglervil...</td>\n",
       "      <td>PlantVillage</td>\n",
       "      <td>1</td>\n",
       "    </tr>\n",
       "  </tbody>\n",
       "</table>\n",
       "</div>"
      ],
      "text/plain": [
       "  Crop common name Crop scientific name Disease common name  \\\n",
       "0            Apple      Malus domestica          Apple scab   \n",
       "1            Apple      Malus domestica          Apple scab   \n",
       "2            Apple      Malus domestica          Apple scab   \n",
       "3            Apple      Malus domestica          Apple scab   \n",
       "4            Apple      Malus domestica          Apple scab   \n",
       "\n",
       "       Disease scientific name  \\\n",
       "0  <i>Venturia inaequalis </i>   \n",
       "1  <i>Venturia inaequalis </i>   \n",
       "2  <i>Venturia inaequalis </i>   \n",
       "3  <i>Venturia inaequalis </i>   \n",
       "4  <i>Venturia inaequalis </i>   \n",
       "\n",
       "                                                 url  \\\n",
       "0  https://d3an9inho3qicd.cloudfront.net/images/p...   \n",
       "1  https://d3an9inho3qicd.cloudfront.net/images/p...   \n",
       "2  https://d3an9inho3qicd.cloudfront.net/images/p...   \n",
       "3  https://d3an9inho3qicd.cloudfront.net/images/p...   \n",
       "4  https://d3an9inho3qicd.cloudfront.net/images/p...   \n",
       "\n",
       "                                         description      metadata  scraped  \n",
       "0  photographed in field/outside, FREC, Biglervil...  PlantVillage        1  \n",
       "1  photographed in field/outside, FREC, Biglervil...  PlantVillage        1  \n",
       "2  photographed in field/outside, FREC, Biglervil...  PlantVillage        1  \n",
       "3  photographed in field/outside, FREC, Biglervil...  PlantVillage        1  \n",
       "4  photographed in field/outside, FREC, Biglervil...  PlantVillage        1  "
      ]
     },
     "execution_count": 17,
     "metadata": {},
     "output_type": "execute_result"
    }
   ],
   "source": [
    "dfs[0].head()"
   ]
  },
  {
   "cell_type": "code",
   "execution_count": null,
   "metadata": {
    "collapsed": true
   },
   "outputs": [],
   "source": []
  },
  {
   "cell_type": "code",
   "execution_count": null,
   "metadata": {
    "collapsed": true
   },
   "outputs": [],
   "source": []
  },
  {
   "cell_type": "code",
   "execution_count": null,
   "metadata": {
    "collapsed": true
   },
   "outputs": [],
   "source": [
    "# Catching up with scraping (after system reset)"
   ]
  },
  {
   "cell_type": "code",
   "execution_count": 16,
   "metadata": {
    "collapsed": false
   },
   "outputs": [
    {
     "name": "stdout",
     "output_type": "stream",
     "text": [
      "Apple\n",
      "Banana\n",
      "Cabbage (red, white, Savoy)\n",
      "Cassava (manioc)\n",
      "Celery\n",
      "Cherry (including sour)\n",
      "Corn (maize)\n",
      "Cucumber\n",
      "Gourd\n",
      "Grape\n"
     ]
    }
   ],
   "source": [
    "for df in dfs[:10]:\n",
    "    print(df['Crop common name'][0])\n",
    "    df['scraped'] = 1"
   ]
  },
  {
   "cell_type": "code",
   "execution_count": 15,
   "metadata": {
    "collapsed": false
   },
   "outputs": [
    {
     "data": {
      "text/plain": [
       "19"
      ]
     },
     "execution_count": 15,
     "metadata": {},
     "output_type": "execute_result"
    }
   ],
   "source": [
    "len(dfs)"
   ]
  },
  {
   "cell_type": "code",
   "execution_count": 19,
   "metadata": {
    "collapsed": true
   },
   "outputs": [],
   "source": [
    "df = dfs[10]"
   ]
  },
  {
   "cell_type": "code",
   "execution_count": 23,
   "metadata": {
    "collapsed": false
   },
   "outputs": [
    {
     "data": {
      "text/html": [
       "<div>\n",
       "<table border=\"1\" class=\"dataframe\">\n",
       "  <thead>\n",
       "    <tr style=\"text-align: right;\">\n",
       "      <th></th>\n",
       "      <th>Crop common name</th>\n",
       "      <th>Crop scientific name</th>\n",
       "      <th>Disease common name</th>\n",
       "      <th>Disease scientific name</th>\n",
       "      <th>url</th>\n",
       "      <th>description</th>\n",
       "      <th>metadata</th>\n",
       "      <th>scraped</th>\n",
       "    </tr>\n",
       "  </thead>\n",
       "  <tbody>\n",
       "    <tr>\n",
       "      <th>0</th>\n",
       "      <td>Orange</td>\n",
       "      <td>Citrus sinensis</td>\n",
       "      <td>Huanglongbing (Citrus greening)</td>\n",
       "      <td>&lt;i&gt;Candidatus&lt;/i&gt; Liberibacter &lt;i&gt; asiaticus&lt;/...</td>\n",
       "      <td>https://d3an9inho3qicd.cloudfront.net/images/p...</td>\n",
       "      <td>photographed inside lab, CREC, Lake Alfred, FL</td>\n",
       "      <td>PlantVillage</td>\n",
       "      <td>1</td>\n",
       "    </tr>\n",
       "    <tr>\n",
       "      <th>1</th>\n",
       "      <td>Orange</td>\n",
       "      <td>Citrus sinensis</td>\n",
       "      <td>Huanglongbing (Citrus greening)</td>\n",
       "      <td>&lt;i&gt;Candidatus&lt;/i&gt; Liberibacter &lt;i&gt; asiaticus&lt;/...</td>\n",
       "      <td>https://d3an9inho3qicd.cloudfront.net/images/p...</td>\n",
       "      <td>photographed inside lab, CREC, Lake Alfred, FL</td>\n",
       "      <td>PlantVillage</td>\n",
       "      <td>1</td>\n",
       "    </tr>\n",
       "    <tr>\n",
       "      <th>2</th>\n",
       "      <td>Orange</td>\n",
       "      <td>Citrus sinensis</td>\n",
       "      <td>Huanglongbing (Citrus greening)</td>\n",
       "      <td>&lt;i&gt;Candidatus&lt;/i&gt; Liberibacter &lt;i&gt; asiaticus&lt;/...</td>\n",
       "      <td>https://d3an9inho3qicd.cloudfront.net/images/p...</td>\n",
       "      <td>photographed inside lab, CREC, Lake Alfred, FL</td>\n",
       "      <td>PlantVillage</td>\n",
       "      <td>1</td>\n",
       "    </tr>\n",
       "    <tr>\n",
       "      <th>3</th>\n",
       "      <td>Orange</td>\n",
       "      <td>Citrus sinensis</td>\n",
       "      <td>Huanglongbing (Citrus greening)</td>\n",
       "      <td>&lt;i&gt;Candidatus&lt;/i&gt; Liberibacter &lt;i&gt; asiaticus&lt;/...</td>\n",
       "      <td>https://d3an9inho3qicd.cloudfront.net/images/p...</td>\n",
       "      <td>photographed inside lab, CREC, Lake Alfred, FL</td>\n",
       "      <td>PlantVillage</td>\n",
       "      <td>1</td>\n",
       "    </tr>\n",
       "    <tr>\n",
       "      <th>4</th>\n",
       "      <td>Orange</td>\n",
       "      <td>Citrus sinensis</td>\n",
       "      <td>Huanglongbing (Citrus greening)</td>\n",
       "      <td>&lt;i&gt;Candidatus&lt;/i&gt; Liberibacter &lt;i&gt; asiaticus&lt;/...</td>\n",
       "      <td>https://d3an9inho3qicd.cloudfront.net/images/p...</td>\n",
       "      <td>photographed inside lab, CREC, Lake Alfred, FL</td>\n",
       "      <td>PlantVillage</td>\n",
       "      <td>1</td>\n",
       "    </tr>\n",
       "  </tbody>\n",
       "</table>\n",
       "</div>"
      ],
      "text/plain": [
       "  Crop common name Crop scientific name              Disease common name  \\\n",
       "0           Orange      Citrus sinensis  Huanglongbing (Citrus greening)   \n",
       "1           Orange      Citrus sinensis  Huanglongbing (Citrus greening)   \n",
       "2           Orange      Citrus sinensis  Huanglongbing (Citrus greening)   \n",
       "3           Orange      Citrus sinensis  Huanglongbing (Citrus greening)   \n",
       "4           Orange      Citrus sinensis  Huanglongbing (Citrus greening)   \n",
       "\n",
       "                             Disease scientific name  \\\n",
       "0  <i>Candidatus</i> Liberibacter <i> asiaticus</...   \n",
       "1  <i>Candidatus</i> Liberibacter <i> asiaticus</...   \n",
       "2  <i>Candidatus</i> Liberibacter <i> asiaticus</...   \n",
       "3  <i>Candidatus</i> Liberibacter <i> asiaticus</...   \n",
       "4  <i>Candidatus</i> Liberibacter <i> asiaticus</...   \n",
       "\n",
       "                                                 url  \\\n",
       "0  https://d3an9inho3qicd.cloudfront.net/images/p...   \n",
       "1  https://d3an9inho3qicd.cloudfront.net/images/p...   \n",
       "2  https://d3an9inho3qicd.cloudfront.net/images/p...   \n",
       "3  https://d3an9inho3qicd.cloudfront.net/images/p...   \n",
       "4  https://d3an9inho3qicd.cloudfront.net/images/p...   \n",
       "\n",
       "                                      description      metadata  scraped  \n",
       "0  photographed inside lab, CREC, Lake Alfred, FL  PlantVillage        1  \n",
       "1  photographed inside lab, CREC, Lake Alfred, FL  PlantVillage        1  \n",
       "2  photographed inside lab, CREC, Lake Alfred, FL  PlantVillage        1  \n",
       "3  photographed inside lab, CREC, Lake Alfred, FL  PlantVillage        1  \n",
       "4  photographed inside lab, CREC, Lake Alfred, FL  PlantVillage        1  "
      ]
     },
     "execution_count": 23,
     "metadata": {},
     "output_type": "execute_result"
    }
   ],
   "source": [
    "df.head()"
   ]
  },
  {
   "cell_type": "code",
   "execution_count": 21,
   "metadata": {
    "collapsed": true
   },
   "outputs": [],
   "source": [
    "for i, url in enumerate(df['scraped']):\n",
    "    if i < 2400:\n",
    "        df.set_value(i,'scraped',1)"
   ]
  },
  {
   "cell_type": "code",
   "execution_count": 28,
   "metadata": {
    "collapsed": false
   },
   "outputs": [
    {
     "data": {
      "text/plain": [
       "0    7879\n",
       "1    4795\n",
       "Name: scraped, dtype: int64"
      ]
     },
     "execution_count": 28,
     "metadata": {},
     "output_type": "execute_result"
    }
   ],
   "source": [
    "dfs[15]['scraped'].value_counts()"
   ]
  },
  {
   "cell_type": "code",
   "execution_count": null,
   "metadata": {
    "collapsed": true
   },
   "outputs": [],
   "source": []
  },
  {
   "cell_type": "markdown",
   "metadata": {
    "collapsed": true
   },
   "source": [
    "randomly distribute all the pictures into train and validation sets"
   ]
  },
  {
   "cell_type": "code",
   "execution_count": 38,
   "metadata": {
    "collapsed": false
   },
   "outputs": [
    {
     "data": {
      "text/plain": [
       "['apple_Apple_scab',\n",
       " 'apple_Black_rot',\n",
       " 'apple_Cedar_apple_rust',\n",
       " 'apple_healthy',\n",
       " 'banana_Banana_speckle',\n",
       " 'banana_Black_sigatoka_(Black_leaf_streak)',\n",
       " 'banana_healthy',\n",
       " 'cabbage_Black_rot',\n",
       " 'cabbage_healthy',\n",
       " 'cassava_Brown_leaf_spot',\n",
       " 'cassava_Cassava_green_spider_mite',\n",
       " 'cherry_healthy',\n",
       " 'cherry_Powdery_mildew',\n",
       " 'corn_Cercospora_leaf_spot_Gray_leaf_spot',\n",
       " 'corn_Common_rust',\n",
       " 'corn_healthy',\n",
       " 'corn_Northern_Leaf_Blight',\n",
       " 'cucumber_Downy_mildew',\n",
       " 'cucumber_healthy',\n",
       " 'grape_Black_rot',\n",
       " 'grape_Esca_(Black_Measles_or_Spanish_Measles)',\n",
       " 'grape_healthy',\n",
       " 'grape_Leaf_blight_(Isariopsis_Leaf_Spot)',\n",
       " 'peach_Bacterial_spot',\n",
       " 'peach_healthy',\n",
       " 'Pepper,_bell_Anthracnose',\n",
       " 'Pepper,_bell_Bacterial_spot',\n",
       " 'Pepper,_bell_Bacterial_wilt',\n",
       " 'Pepper,_bell_Cercospora_leaf_spot_(Frogeye_leaf_spot)',\n",
       " 'Pepper,_bell_healthy',\n",
       " 'potato_Early_blight',\n",
       " 'potato_healthy',\n",
       " 'potato_Late_blight',\n",
       " 'soybean_Downy_mildew',\n",
       " 'soybean_Frogeye_leaf_spot',\n",
       " 'soybean_healthy',\n",
       " 'soybean_Septoria_Leaf_Blight',\n",
       " 'squash_Alternaria_leaf_spot',\n",
       " 'squash_healthy',\n",
       " 'squash_Powdery_mildew',\n",
       " 'strawberry_healthy',\n",
       " 'strawberry_Leaf_scorch',\n",
       " 'tomato_Bacterial_spot',\n",
       " 'tomato_Early_blight',\n",
       " 'tomato_healthy',\n",
       " 'tomato_Late_blight',\n",
       " 'tomato_Leaf_Mold',\n",
       " 'tomato_Magnesium_deficiency',\n",
       " 'tomato_Septoria_leaf_spot',\n",
       " 'tomato_Spider_mites??Two-spotted_spider_mite',\n",
       " 'tomato_Target_Spot',\n",
       " 'tomato_Tomato_mosaic_virus',\n",
       " 'tomato_Tomato_Yellow_Leaf_Curl_disease']"
      ]
     },
     "execution_count": 38,
     "metadata": {},
     "output_type": "execute_result"
    }
   ],
   "source": [
    "# Get all folders in 'train' dir\n",
    "mypath = '/Users/ggarbagnati/ds/metis/metisgh/sf17_ds5/local/Projects/05-Kojak/data/train'\n",
    "dirlist = [f for f in listdir(mypath)]\n",
    "#dirlist = [f for f in listdir(mypath) if isfile(join(mypath, f))]\n",
    "dirlist = [f for f in dirlist if '.DS_Store' not in f]\n",
    "dirlist"
   ]
  },
  {
   "cell_type": "code",
   "execution_count": 39,
   "metadata": {
    "collapsed": true
   },
   "outputs": [],
   "source": [
    "# create matching dirs in 'validation' dir as above\n",
    "filepath = '/Users/ggarbagnati/ds/metis/metisgh/sf17_ds5/local/Projects/05-Kojak/data/validation/'\n",
    "for dirname in dirlist:\n",
    "    directory = filepath + dirname\n",
    "    if not os.path.exists(directory):\n",
    "        os.makedirs(directory)\n",
    "# sub_dir = directory + '/' + sub_dir_name\n",
    "# if not os.path.exists(sub_dir):\n",
    "#     os.makedirs(sub_dir)"
   ]
  },
  {
   "cell_type": "code",
   "execution_count": 40,
   "metadata": {
    "collapsed": false
   },
   "outputs": [
    {
     "name": "stdout",
     "output_type": "stream",
     "text": [
      "apple_Apple_scab\n"
     ]
    },
    {
     "data": {
      "text/plain": [
       "630"
      ]
     },
     "execution_count": 40,
     "metadata": {},
     "output_type": "execute_result"
    }
   ],
   "source": [
    "# to get the number of files in a directory\n",
    "filepath = '/Users/ggarbagnati/ds/metis/metisgh/sf17_ds5/local/Projects/05-Kojak/data/train/'\n",
    "print(dirlist[0])\n",
    "directory = filepath + dirlist[0]\n",
    "len(listdir(directory))"
   ]
  },
  {
   "cell_type": "code",
   "execution_count": 42,
   "metadata": {
    "collapsed": true
   },
   "outputs": [],
   "source": [
    "# train/test split\n",
    "test_split = 0.3"
   ]
  },
  {
   "cell_type": "code",
   "execution_count": 95,
   "metadata": {
    "collapsed": false
   },
   "outputs": [
    {
     "name": "stdout",
     "output_type": "stream",
     "text": [
      "Done with apple_Apple_scab\n",
      "Done with apple_Black_rot\n",
      "Done with apple_Cedar_apple_rust\n",
      "Done with apple_healthy\n",
      "Done with banana_Banana_speckle\n",
      "Done with banana_Black_sigatoka_(Black_leaf_streak)\n",
      "Done with banana_healthy\n",
      "Done with cabbage_Black_rot\n",
      "Done with cabbage_healthy\n",
      "Done with cassava_Brown_leaf_spot\n",
      "Done with cassava_Cassava_green_spider_mite\n",
      "Done with cherry_healthy\n",
      "Done with cherry_Powdery_mildew\n",
      "Done with corn_Cercospora_leaf_spot_Gray_leaf_spot\n",
      "Done with corn_Common_rust\n",
      "Done with corn_healthy\n",
      "Done with corn_Northern_Leaf_Blight\n",
      "Done with cucumber_Downy_mildew\n",
      "Done with cucumber_healthy\n",
      "Done with grape_Black_rot\n",
      "Done with grape_Esca_(Black_Measles_or_Spanish_Measles)\n",
      "Done with grape_healthy\n",
      "Done with grape_Leaf_blight_(Isariopsis_Leaf_Spot)\n",
      "Done with peach_Bacterial_spot\n",
      "Done with peach_healthy\n",
      "Done with Pepper,_bell_Anthracnose\n",
      "Done with Pepper,_bell_Bacterial_spot\n",
      "Done with Pepper,_bell_Bacterial_wilt\n",
      "Done with Pepper,_bell_Cercospora_leaf_spot_(Frogeye_leaf_spot)\n",
      "Done with Pepper,_bell_healthy\n",
      "Done with potato_Early_blight\n",
      "Done with potato_healthy\n",
      "Done with potato_Late_blight\n",
      "Done with soybean_Downy_mildew\n",
      "Done with soybean_Frogeye_leaf_spot\n",
      "Done with soybean_healthy\n",
      "Done with soybean_Septoria_Leaf_Blight\n",
      "Done with squash_Alternaria_leaf_spot\n",
      "Done with squash_healthy\n",
      "Done with squash_Powdery_mildew\n",
      "Done with strawberry_healthy\n",
      "Done with strawberry_Leaf_scorch\n",
      "Done with tomato_Bacterial_spot\n",
      "Done with tomato_Early_blight\n",
      "Done with tomato_healthy\n",
      "Done with tomato_Late_blight\n",
      "Done with tomato_Leaf_Mold\n",
      "Done with tomato_Magnesium_deficiency\n",
      "Done with tomato_Septoria_leaf_spot\n",
      "Done with tomato_Spider_mites??Two-spotted_spider_mite\n",
      "Done with tomato_Target_Spot\n",
      "Done with tomato_Tomato_mosaic_virus\n",
      "Done with tomato_Tomato_Yellow_Leaf_Curl_disease\n"
     ]
    }
   ],
   "source": [
    "# spliting the data\n",
    "basepath = '/Users/ggarbagnati/ds/metis/metisgh/sf17_ds5/local/Projects/05-Kojak/data/'\n",
    "trainpath = basepath + 'train/'\n",
    "valpath = basepath + 'validation/'\n",
    "\n",
    "for dirname in dirlist:\n",
    "    currDir = trainpath + dirname + '/'\n",
    "    newDir = valpath + dirname + '/'\n",
    "    imagelist = listdir(currDir)\n",
    "    test_size = int(len(imagelist) * test_split)\n",
    "    \n",
    "    #print(test_size)\n",
    "    \n",
    "    # generating a random list of indices to move\n",
    "    image_is = np.random.choice(len(imagelist), test_size, replace=False).tolist()\n",
    "    image_is.sort()\n",
    "    #print((image_is))\n",
    "    \n",
    "    images = [imagelist[i] for i in image_is]\n",
    "    \n",
    "    for image in images:\n",
    "        oldpath = currDir + image\n",
    "        newpath = newDir + image\n",
    "        #print(oldpath)\n",
    "        #print(newpath)\n",
    "        os.rename(oldpath,newpath)\n",
    "        \n",
    "#     for i, image in enumerate(imagelist):\n",
    "#         images_to_move = \n",
    "    #print(image_is, len(image_is))\n",
    "    \n",
    "    print('Done with', dirname)"
   ]
  },
  {
   "cell_type": "code",
   "execution_count": null,
   "metadata": {
    "collapsed": true
   },
   "outputs": [],
   "source": []
  },
  {
   "cell_type": "code",
   "execution_count": null,
   "metadata": {
    "collapsed": true
   },
   "outputs": [],
   "source": []
  },
  {
   "cell_type": "code",
   "execution_count": null,
   "metadata": {
    "collapsed": true
   },
   "outputs": [],
   "source": []
  },
  {
   "cell_type": "code",
   "execution_count": null,
   "metadata": {
    "collapsed": true
   },
   "outputs": [],
   "source": []
  }
 ],
 "metadata": {
  "anaconda-cloud": {},
  "kernelspec": {
   "display_name": "Python [conda root]",
   "language": "python",
   "name": "conda-root-py"
  },
  "language_info": {
   "codemirror_mode": {
    "name": "ipython",
    "version": 3
   },
   "file_extension": ".py",
   "mimetype": "text/x-python",
   "name": "python",
   "nbconvert_exporter": "python",
   "pygments_lexer": "ipython3",
   "version": "3.5.2"
  }
 },
 "nbformat": 4,
 "nbformat_minor": 1
}
