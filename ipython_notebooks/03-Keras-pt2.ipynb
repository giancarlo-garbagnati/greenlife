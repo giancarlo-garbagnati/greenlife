{
 "cells": [
  {
   "cell_type": "markdown",
   "metadata": {},
   "source": [
    "Getting list of categories, saving and exporting to local"
   ]
  },
  {
   "cell_type": "code",
   "execution_count": 1,
   "metadata": {
    "collapsed": false
   },
   "outputs": [
    {
     "name": "stderr",
     "output_type": "stream",
     "text": [
      "Using TensorFlow backend.\n"
     ]
    }
   ],
   "source": [
    "from keras.applications.inception_v3 import InceptionV3\n",
    "from keras.preprocessing import image\n",
    "from keras.preprocessing.image import ImageDataGenerator\n",
    "from keras.models import Model\n",
    "from keras.layers import Dense, GlobalAveragePooling2D\n",
    "from keras import backend as K\n",
    "from keras.optimizers import SGD, RMSprop\n",
    "\n",
    "# gets jpg count for all images in given directory and all subdirectories\n",
    "def jpg_counts(dirpath, verbose=False):\n",
    "    from os import listdir, walk\n",
    "    #from os.path import isfile, join\n",
    "    \n",
    "    # list of all subdirectories\n",
    "    dirlist = [x[0] for x in walk(dirpath)][1:]\n",
    "    \n",
    "    # list of all images in this directory\n",
    "    imagelist = [f for f in listdir(dirpath) if '.jpg' in f[-4:].lower()]\n",
    "    if verbose:\n",
    "        print(len(imagelist),'\\n')\n",
    "    \n",
    "    # get all images in all subdirectories\n",
    "    #print(dirlist)\n",
    "    for currdir in dirlist:\n",
    "        allfiles = [f for f in listdir(currdir)]\n",
    "        imagelistsubdir = [f for f in listdir(currdir) if '.jpg' in f[-4:].lower()]\n",
    "        imagelist += imagelistsubdir\n",
    "        if verbose:\n",
    "            if len(allfiles) != len(imagelistsubdir):\n",
    "                print(currdir, len(imagelistsubdir), 'out of', len(allfiles), 'EXTRA NON JPG FILES')\n",
    "            else:\n",
    "                print(currdir, len(imagelistsubdir), 'out of', len(allfiles))\n",
    "\n",
    "    if verbose:\n",
    "        print(len(imagelist))\n",
    "    return len(imagelist)\n",
    "\n",
    "def get_num_classes(dirpath, verbose=False):\n",
    "    from os import walk\n",
    "    \n",
    "    # get list of all direct subdirectories\n",
    "    dirlist = next(walk(dirpath))[1]\n",
    "    \n",
    "    if verbose:\n",
    "        print('Classes found:')\n",
    "        for d in dirlist:\n",
    "            print(d)\n",
    "    \n",
    "    return len(dirlist)"
   ]
  },
  {
   "cell_type": "code",
   "execution_count": 2,
   "metadata": {
    "collapsed": false
   },
   "outputs": [
    {
     "name": "stdout",
     "output_type": "stream",
     "text": [
      "Found 51624 images belonging to 46 classes.\n",
      "Found 22100 images belonging to 46 classes.\n",
      "Epoch 1/1\n",
      "  320/51624 [..............................] - ETA: 1527s - loss: 3.8827 - acc: 0.0344\b\b\b\b\b\b\b\b\b\b\b\b\b\b\b\b\b\b\b\b\b\b\b\b\b\b\b\b\b\b\b\b\b\b\b\b\b\b\b\b\b\b\b\b\b\b\b\b\b\b\b\b\b\b\b\b\b\b\b\b\b\b\b\b\b\b\b\b\b\b\b\b\b\b\b\b\b\b\b\b\b\b\b\b\b\b\b\b\b\b\b\b\b\b\b\b\b\b\b\b\b\b\b\b\b\b\b\b\b\b\b\b\b\b\b\b\b\b\b\b\b\b\b\b\b\b\b\b\b\b\b\b\b\b\b\b\b\b\b\b\b\b\b\b\b\b\b\b\b\b\b\b\b\b\b\b\b\b\b\b\b\b\b\b\b\b\b\b\b\b\b\b\b\b\b\b\b\b\b\b\b\b\b\b\b\b\b\b\b\b\b\b\b\b\b\b\b\b\b\b\b\b\b\b\b\b\b\b\b\b\b\b\b\b\b\b\b\b\b\b\b\b\b\b\b\b\b\b\b\b\b\b\b\b\b\b\b\b\b\b\b\b\b\b\b\b\b\b\b\b\b\b\b\b\b\b\b\b\b\b\b\b\b\b\b\b\b\b\b\b\b\b\b\b\b\b\b\b\b\b\b\b\b\b\b\b\b\b\b\b\b\b\b\b\b\b\b\b\b\b\b\b\b\b\b\b\b\b\b\b\b\b\b\b\b\b\b\b\b\b\b\b\b\b\b\b\b\b\b\b\b\b\b\b\b\b\b\b\b\b\b\b\b\b\b\b\b\b\b\b\b\b\b\b\b\b\b\b\b\b\b\b\b\b\b\b\b\b\b\b\b\b\b\b\b\b\b\b\b\b\b\b\b\b\b\b\b\b\b\b\b\b\b\b\b\b\b\b\b\b\b\b\b\b\b\b\b\b\b\b\b\b\b\b\b\b\b\b\b\b\b\b\b\b\b\b\b\b\b\b\b\b\b\b\b\b\b\b\b\b\b\b\b\b\b\b\b\b\b\b\b\b\b\b\b\b\b\b\b\b\b\b\b\b\b\b\b\b\b\b\b\b\b\b\b\b\b\b\b\b\b\b\b\b\b\b\b\b\b\b\b\b\b\b\b\b\b\b\b\b\b\b\b\b\b\b\b\b\b\b\b\b\b\b\b\b\b\b\b\b\b\b\b\b\b\b\b\b\b\b\b\b\b\b\b\b\b\b\b\b\b\b\b\b\b\b\b\b\b\b\b\b\b\b\b\b\b\b\b\b\b\b\b\b\b\b\b\b\b\b\b\b\b\b\b\b\b\b\b\b\b\b\b\b\b\b\b\b\b\b\b\b\b\b\b\b\b\b\b\b\b\b\b\b\b\b\b\b\b\b\b\b\b\b\b\b\b\b\b\b\b\b\b\b\b\b\b\b\b\b\b\b\b\b\b\b\b\b\b\b\b\b\b\b\b\b\b\b\b\b\b\b\b\b\b\b\b\b\b\b\b\b\b\b\b\b\b\b\b\b\b\b\b\b\b\b\b\b\b\b\b\b\b\b\b\b\b\b\b\b\b\b\b\b\b\b\b\b\b\b\b\b\b\b\b\b\b\b\b\b\b\b\b\b\b\b\b\b\b\b\b\b\b\b\b\b\b\b\b\b\b\b\b\b\b\b\b\b\b\b\b\b\b\b\b\b\b\b\b\b\b\b\b\b\b\b\b\b\b\b\b\b\b\b\b\b\b\b\b\b\b\b\b\b"
     ]
    },
    {
     "ename": "KeyboardInterrupt",
     "evalue": "",
     "output_type": "error",
     "traceback": [
      "\u001b[0;31m---------------------------------------------------------------------------\u001b[0m",
      "\u001b[0;31mKeyboardInterrupt\u001b[0m                         Traceback (most recent call last)",
      "\u001b[0;32m<ipython-input-2-8ec0e1d6a2de>\u001b[0m in \u001b[0;36m<module>\u001b[0;34m()\u001b[0m\n\u001b[1;32m     72\u001b[0m             \u001b[0mnb_epoch\u001b[0m \u001b[0;34m=\u001b[0m \u001b[0mnb_epoch\u001b[0m\u001b[0;34m,\u001b[0m\u001b[0;34m\u001b[0m\u001b[0m\n\u001b[1;32m     73\u001b[0m             \u001b[0mvalidation_data\u001b[0m \u001b[0;34m=\u001b[0m \u001b[0mgenerator_test\u001b[0m\u001b[0;34m,\u001b[0m\u001b[0;34m\u001b[0m\u001b[0m\n\u001b[0;32m---> 74\u001b[0;31m             nb_val_samples = nb_validation_samples)\n\u001b[0m\u001b[1;32m     75\u001b[0m \u001b[0;34m\u001b[0m\u001b[0m\n\u001b[1;32m     76\u001b[0m \u001b[0;34m\u001b[0m\u001b[0m\n",
      "\u001b[0;32m/usr/local/lib/python3.4/dist-packages/Keras-1.2.2-py3.4.egg/keras/engine/training.py\u001b[0m in \u001b[0;36mfit_generator\u001b[0;34m(self, generator, samples_per_epoch, nb_epoch, verbose, callbacks, validation_data, nb_val_samples, class_weight, max_q_size, nb_worker, pickle_safe, initial_epoch)\u001b[0m\n\u001b[1;32m   1524\u001b[0m                             \u001b[0;32mbreak\u001b[0m\u001b[0;34m\u001b[0m\u001b[0m\n\u001b[1;32m   1525\u001b[0m                         \u001b[0;32melse\u001b[0m\u001b[0;34m:\u001b[0m\u001b[0;34m\u001b[0m\u001b[0m\n\u001b[0;32m-> 1526\u001b[0;31m                             \u001b[0mtime\u001b[0m\u001b[0;34m.\u001b[0m\u001b[0msleep\u001b[0m\u001b[0;34m(\u001b[0m\u001b[0mwait_time\u001b[0m\u001b[0;34m)\u001b[0m\u001b[0;34m\u001b[0m\u001b[0m\n\u001b[0m\u001b[1;32m   1527\u001b[0m \u001b[0;34m\u001b[0m\u001b[0m\n\u001b[1;32m   1528\u001b[0m                     \u001b[0;32mif\u001b[0m \u001b[0;32mnot\u001b[0m \u001b[0mhasattr\u001b[0m\u001b[0;34m(\u001b[0m\u001b[0mgenerator_output\u001b[0m\u001b[0;34m,\u001b[0m \u001b[0;34m'__len__'\u001b[0m\u001b[0;34m)\u001b[0m\u001b[0;34m:\u001b[0m\u001b[0;34m\u001b[0m\u001b[0m\n",
      "\u001b[0;31mKeyboardInterrupt\u001b[0m: "
     ]
    }
   ],
   "source": [
    "'''\n",
    "basedir = '/Users/ggarbagnati/ds/metis/metisgh/sf17_ds5/local/Projects/05-Kojak'\n",
    "train_data_dir = basedir + '/data/train'\n",
    "validation_data_dir = basedir + '/data/validation'\n",
    "'''\n",
    "basedir = '/data/data'\n",
    "targetdir = basedir + '/train'\n",
    "valdir = basedir + '/validation'\n",
    "\n",
    "\n",
    "#img_width, img_height = 761, 800\n",
    "img_width, img_height = 299, 299 # inception likes 299x299\n",
    "nb_train_samples = jpg_counts(targetdir)\n",
    "nb_validation_samples = jpg_counts(valdir)\n",
    "nb_categories = get_num_classes(targetdir)\n",
    "batch_size = 32\n",
    "nb_epoch = 1\n",
    "\n",
    "# create the base pre-trained model\n",
    "#base_model = InceptionV3(weights='imagenet', include_top=False)\n",
    "model = InceptionV3(weights='imagenet', include_top=False)\n",
    "\n",
    "# add a global spatial average pooling layer\n",
    "#x = base_model.output\n",
    "x = model.output\n",
    "x = GlobalAveragePooling2D()(x)\n",
    "# add a fully-connected layer\n",
    "#x = Dense(1024, activation='relu', name='fc_1')(x)\n",
    "x = Dense(1024, activation='relu', name='fc_1')(x) # num of neurons in the layer\n",
    "predictions = Dense(nb_categories, activation='softmax')(x)\n",
    "\n",
    "'''\n",
    "# Freeze convolutional layers\n",
    "for layer in model.layers:\n",
    "    layer.trainable = False\n",
    "'''\n",
    "\n",
    "fullmodel = Model(input=model.input, output=predictions)\n",
    "\n",
    "\n",
    "# Freeze convolutional layers\n",
    "for layer in model.layers:\n",
    "    layer.trainable = False\n",
    "\n",
    "\n",
    "fullmodel.compile(optimizer=RMSprop(lr = .00001), loss = 'categorical_crossentropy', metrics=['accuracy'])\n",
    "#fullmodel.compile('rmsprop', 'categorical_crossentropy', metrics=['accuracy'])\n",
    "\n",
    "train_datagen = ImageDataGenerator(rotation_range=180,\n",
    "                                    rescale = 1./255.,\n",
    "                                    shear_range = .2,\n",
    "                                    zoom_range = .2,\n",
    "                                    horizontal_flip = True)\n",
    "\n",
    "# Inception has a custom image preprocess function\n",
    "test_datagen = image.ImageDataGenerator(rescale=1./255)\n",
    "\n",
    "generator_train = train_datagen.flow_from_directory(\n",
    "        targetdir,\n",
    "        target_size=(img_width, img_height),\n",
    "        batch_size=batch_size,\n",
    "        class_mode='categorical')\n",
    "\n",
    "generator_test = test_datagen.flow_from_directory(\n",
    "        valdir,\n",
    "        target_size=(img_width, img_height),\n",
    "        batch_size=batch_size,\n",
    "        class_mode='categorical')\n",
    "\n",
    "# interrupt kernel after the fit_generator gets a few seconds into the first epoch\n",
    "\n",
    "fullmodel.fit_generator(generator_train,\n",
    "            samples_per_epoch = nb_train_samples,\n",
    "            nb_epoch = nb_epoch,\n",
    "            validation_data = generator_test,\n",
    "            nb_val_samples = nb_validation_samples)\n",
    "\n",
    "\n",
    "# if I get time...\n",
    "'''\n",
    "#start fine-tuning\n",
    "# unfreeze the top 2 inception blocks\n",
    "for layer in fullmodel.layers[:172]:\n",
    "   layer.trainable = False\n",
    "for layer in fullmodel.layers[172:]:\n",
    "   layer.trainable = True\n",
    "\n",
    "# use SGD with a low learning rate\n",
    "fullmodel.compile(optimizer=SGD(lr=0.0001, momentum=0.9),\n",
    "            loss='categorical_crossentropy', metrics=['accuracy'])\n",
    "\n",
    "# Train the top 2 inception blocks\n",
    "fullmodel.fit_generator(generator_train,\n",
    "                        samples_per_epoch = nb_train_samples,\n",
    "                        nb_epoch = nb_epoch,\n",
    "                        validation_data = generator_test,\n",
    "                        nb_val_samples = nb_validation_samples)\n",
    "'''\n",
    "\n",
    "#fullmodel.save('leafincepmodel.h5')\n",
    "\n",
    "'''\n",
    "model_json = fullmodel.to_json()\n",
    "with open('incep_3_multi.json', 'w') as json_file:\n",
    "    json_file.write(model_json)\n",
    "fullmodel.save_weights('incep_3_multi.h5')\n",
    "'''\n",
    "\n",
    "print('Done!')\n"
   ]
  },
  {
   "cell_type": "code",
   "execution_count": 5,
   "metadata": {
    "collapsed": false
   },
   "outputs": [
    {
     "name": "stdout",
     "output_type": "stream",
     "text": [
      "<class 'dict'>\n"
     ]
    },
    {
     "data": {
      "text/plain": [
       "{'Pepper,_bell_Bacterial_spot': 0,\n",
       " 'Pepper,_bell_healthy': 1,\n",
       " 'apple_Apple_scab': 2,\n",
       " 'apple_Black_rot': 3,\n",
       " 'apple_Cedar_apple_rust': 4,\n",
       " 'apple_healthy': 5,\n",
       " 'banana_Banana_speckle': 6,\n",
       " 'banana_Black_sigatoka_(Black_leaf_streak)': 7,\n",
       " 'banana_healthy': 8,\n",
       " 'cabbage_Black_rot': 9,\n",
       " 'cabbage_healthy': 10,\n",
       " 'cherry_Powdery_mildew': 11,\n",
       " 'cherry_healthy': 12,\n",
       " 'corn_Cercospora_leaf_spot_Gray_leaf_spot': 13,\n",
       " 'corn_Common_rust': 14,\n",
       " 'corn_Northern_Leaf_Blight': 15,\n",
       " 'corn_healthy': 16,\n",
       " 'cucumber_Downy_mildew': 17,\n",
       " 'cucumber_healthy': 18,\n",
       " 'grape_Black_rot': 19,\n",
       " 'grape_Esca_(Black_Measles_or_Spanish_Measles)': 20,\n",
       " 'grape_Leaf_blight_(Isariopsis_Leaf_Spot)': 21,\n",
       " 'grape_healthy': 22,\n",
       " 'peach_Bacterial_spot': 23,\n",
       " 'peach_healthy': 24,\n",
       " 'potato_Early_blight': 25,\n",
       " 'potato_Late_blight': 26,\n",
       " 'potato_healthy': 27,\n",
       " 'soybean_Downy_mildew': 28,\n",
       " 'soybean_Frogeye_leaf_spot': 29,\n",
       " 'soybean_Septoria_Leaf_Blight': 30,\n",
       " 'soybean_healthy': 31,\n",
       " 'squash_Powdery_mildew': 32,\n",
       " 'squash_healthy': 33,\n",
       " 'strawberry_Leaf_scorch': 34,\n",
       " 'strawberry_healthy': 35,\n",
       " 'tomato_Bacterial_spot': 36,\n",
       " 'tomato_Early_blight': 37,\n",
       " 'tomato_Late_blight': 38,\n",
       " 'tomato_Leaf_Mold': 39,\n",
       " 'tomato_Septoria_leaf_spot': 40,\n",
       " 'tomato_Spider_mites??Two-spotted_spider_mite': 41,\n",
       " 'tomato_Target_Spot': 42,\n",
       " 'tomato_Tomato_Yellow_Leaf_Curl_disease': 43,\n",
       " 'tomato_Tomato_mosaic_virus': 44,\n",
       " 'tomato_healthy': 45}"
      ]
     },
     "execution_count": 5,
     "metadata": {},
     "output_type": "execute_result"
    }
   ],
   "source": [
    "classeslist = generator_train.class_indices\n",
    "print(type(classeslist))\n",
    "classeslist"
   ]
  },
  {
   "cell_type": "code",
   "execution_count": 9,
   "metadata": {
    "collapsed": false
   },
   "outputs": [
    {
     "data": {
      "text/plain": [
       "{0: 'Pepper,_bell_Bacterial_spot',\n",
       " 1: 'Pepper,_bell_healthy',\n",
       " 2: 'apple_Apple_scab',\n",
       " 3: 'apple_Black_rot',\n",
       " 4: 'apple_Cedar_apple_rust',\n",
       " 5: 'apple_healthy',\n",
       " 6: 'banana_Banana_speckle',\n",
       " 7: 'banana_Black_sigatoka_(Black_leaf_streak)',\n",
       " 8: 'banana_healthy',\n",
       " 9: 'cabbage_Black_rot',\n",
       " 10: 'cabbage_healthy',\n",
       " 11: 'cherry_Powdery_mildew',\n",
       " 12: 'cherry_healthy',\n",
       " 13: 'corn_Cercospora_leaf_spot_Gray_leaf_spot',\n",
       " 14: 'corn_Common_rust',\n",
       " 15: 'corn_Northern_Leaf_Blight',\n",
       " 16: 'corn_healthy',\n",
       " 17: 'cucumber_Downy_mildew',\n",
       " 18: 'cucumber_healthy',\n",
       " 19: 'grape_Black_rot',\n",
       " 20: 'grape_Esca_(Black_Measles_or_Spanish_Measles)',\n",
       " 21: 'grape_Leaf_blight_(Isariopsis_Leaf_Spot)',\n",
       " 22: 'grape_healthy',\n",
       " 23: 'peach_Bacterial_spot',\n",
       " 24: 'peach_healthy',\n",
       " 25: 'potato_Early_blight',\n",
       " 26: 'potato_Late_blight',\n",
       " 27: 'potato_healthy',\n",
       " 28: 'soybean_Downy_mildew',\n",
       " 29: 'soybean_Frogeye_leaf_spot',\n",
       " 30: 'soybean_Septoria_Leaf_Blight',\n",
       " 31: 'soybean_healthy',\n",
       " 32: 'squash_Powdery_mildew',\n",
       " 33: 'squash_healthy',\n",
       " 34: 'strawberry_Leaf_scorch',\n",
       " 35: 'strawberry_healthy',\n",
       " 36: 'tomato_Bacterial_spot',\n",
       " 37: 'tomato_Early_blight',\n",
       " 38: 'tomato_Late_blight',\n",
       " 39: 'tomato_Leaf_Mold',\n",
       " 40: 'tomato_Septoria_leaf_spot',\n",
       " 41: 'tomato_Spider_mites??Two-spotted_spider_mite',\n",
       " 42: 'tomato_Target_Spot',\n",
       " 43: 'tomato_Tomato_Yellow_Leaf_Curl_disease',\n",
       " 44: 'tomato_Tomato_mosaic_virus',\n",
       " 45: 'tomato_healthy'}"
      ]
     },
     "execution_count": 9,
     "metadata": {},
     "output_type": "execute_result"
    }
   ],
   "source": [
    "classeslist_rev = {y:x for x,y in classeslist.items()}\n",
    "classeslist_rev"
   ]
  },
  {
   "cell_type": "code",
   "execution_count": 10,
   "metadata": {
    "collapsed": false
   },
   "outputs": [],
   "source": [
    "import json\n",
    "json.dumps(classeslist_rev)\n",
    "\n",
    "with open('classeslist.json', 'w') as f:\n",
    "    f.write(json.dumps(classeslist_rev))\n",
    "    "
   ]
  },
  {
   "cell_type": "code",
   "execution_count": null,
   "metadata": {
    "collapsed": true
   },
   "outputs": [],
   "source": []
  }
 ],
 "metadata": {
  "anaconda-cloud": {},
  "kernelspec": {
   "display_name": "Python [default]",
   "language": "python",
   "name": "python3"
  },
  "language_info": {
   "codemirror_mode": {
    "name": "ipython",
    "version": 3
   },
   "file_extension": ".py",
   "mimetype": "text/x-python",
   "name": "python",
   "nbconvert_exporter": "python",
   "pygments_lexer": "ipython3",
   "version": "3.5.2"
  }
 },
 "nbformat": 4,
 "nbformat_minor": 2
}
